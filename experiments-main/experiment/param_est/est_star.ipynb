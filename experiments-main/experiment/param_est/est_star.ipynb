{
 "cells": [
  {
   "cell_type": "code",
   "execution_count": 2,
   "id": "f198f246-3b33-4ed8-8bbf-6bf5b3d44338",
   "metadata": {},
   "outputs": [
    {
     "data": {
      "text/plain": [
       "[0, 1, 2, 3, 4]"
      ]
     },
     "execution_count": 2,
     "metadata": {},
     "output_type": "execute_result"
    }
   ],
   "source": [
    "import ipyparallel as ipp\n",
    "\n",
    "rc = ipp.Client(profile=\"bluefog\")\n",
    "dview = rc[:]  # A DirectView of all engines\n",
    "dview.block = True\n",
    "rc.ids"
   ]
  },
  {
   "cell_type": "code",
   "execution_count": 3,
   "id": "269aca96-3cb1-4b1c-925c-10eea1058555",
   "metadata": {},
   "outputs": [
    {
     "data": {
      "text/plain": [
       "[stdout:2] Hello, I am 0 among 5 processes\n"
      ]
     },
     "metadata": {},
     "output_type": "display_data"
    },
    {
     "data": {
      "text/plain": [
       "[stdout:4] Hello, I am 2 among 5 processes\n"
      ]
     },
     "metadata": {},
     "output_type": "display_data"
    },
    {
     "data": {
      "text/plain": [
       "[stdout:1] Hello, I am 4 among 5 processes\n"
      ]
     },
     "metadata": {},
     "output_type": "display_data"
    },
    {
     "data": {
      "text/plain": [
       "[stdout:0] Hello, I am 1 among 5 processes\n"
      ]
     },
     "metadata": {},
     "output_type": "display_data"
    },
    {
     "data": {
      "text/plain": [
       "[stderr:2] Invalid MIT-MAGIC-COOKIE-1 key"
      ]
     },
     "metadata": {},
     "output_type": "display_data"
    },
    {
     "data": {
      "text/plain": [
       "[stderr:1] Invalid MIT-MAGIC-COOKIE-1 key"
      ]
     },
     "metadata": {},
     "output_type": "display_data"
    },
    {
     "data": {
      "text/plain": [
       "[stdout:3] Hello, I am 3 among 5 processes\n"
      ]
     },
     "metadata": {},
     "output_type": "display_data"
    },
    {
     "data": {
      "text/plain": [
       "[stderr:4] Invalid MIT-MAGIC-COOKIE-1 key"
      ]
     },
     "metadata": {},
     "output_type": "display_data"
    },
    {
     "data": {
      "text/plain": [
       "[stderr:0] Invalid MIT-MAGIC-COOKIE-1 key"
      ]
     },
     "metadata": {},
     "output_type": "display_data"
    },
    {
     "data": {
      "text/plain": [
       "[stderr:3] Invalid MIT-MAGIC-COOKIE-1 key"
      ]
     },
     "metadata": {},
     "output_type": "display_data"
    }
   ],
   "source": [
    "%%px\n",
    "import bluefog.torch as bf\n",
    "from bluefog.common import topology_util\n",
    "import networkx as nx\n",
    "\n",
    "bf.init()\n",
    "message = f\"Hello, I am {bf.rank()} among {bf.size()} processes\"\n",
    "print(message)"
   ]
  },
  {
   "cell_type": "code",
   "execution_count": 4,
   "id": "a7a90eff-6ccb-4221-a170-ffe9c3822a9f",
   "metadata": {},
   "outputs": [
    {
     "name": "stdout",
     "output_type": "stream",
     "text": [
      "/home/yl-02/下载/experiments-main/experiment/param_est/data/\n"
     ]
    }
   ],
   "source": [
    "import os\n",
    "import sys\n",
    "import numpy as np\n",
    "\n",
    "import config\n",
    "foldname = config.foldname\n",
    "\n",
    "sys.path.append('/home/yl-02/下载/experiments-main')\n",
    "from lib.function import param_est\n",
    "\n",
    "X_opt = np.load(foldname+'data_X_0.npy')\n",
    "U = np.load( foldname + 'data_U.npy' )\n",
    "E = np.load( foldname + 'data_E.npy' )"
   ]
  },
  {
   "cell_type": "code",
   "execution_count": 5,
   "id": "7bf81a31-5543-46ca-a5ff-4cf0d47d1cdc",
   "metadata": {},
   "outputs": [
    {
     "data": {
      "text/plain": [
       "[None, None, None, None, None]"
      ]
     },
     "execution_count": 5,
     "metadata": {},
     "output_type": "execute_result"
    }
   ],
   "source": [
    "#数据分配\n",
    "num_nodes = len(rc.ids)\n",
    "\n",
    "samples= U.shape[0]\n",
    "num_split = int(samples // num_nodes)\n",
    "for i in range(num_nodes):\n",
    "    data = U[i * num_split : (i + 1) * num_split]\n",
    "    noise = E[i * num_split : (i + 1) * num_split]\n",
    "    dview.push({\"data\": data}, targets=i)\n",
    "    dview.push({\"noise\": noise}, targets=i)\n",
    "\n",
    "dview.push({\"X_opt\": X_opt})"
   ]
  },
  {
   "cell_type": "code",
   "execution_count": 6,
   "id": "9f2f004b-a472-4e5a-889e-befa73ed439e",
   "metadata": {},
   "outputs": [
    {
     "data": {
      "text/plain": [
       "[stdout:1] /home/yl-02/下载/experiments-main/experiment/param_est/data/\n",
       "gradient solver completed\n"
      ]
     },
     "metadata": {},
     "output_type": "display_data"
    },
    {
     "data": {
      "text/plain": [
       "[stdout:2] /home/yl-02/下载/experiments-main/experiment/param_est/data/\n",
       "gradient solver completed\n"
      ]
     },
     "metadata": {},
     "output_type": "display_data"
    },
    {
     "data": {
      "text/plain": [
       "[stdout:0] /home/yl-02/下载/experiments-main/experiment/param_est/data/\n",
       "gradient solver completed\n"
      ]
     },
     "metadata": {},
     "output_type": "display_data"
    },
    {
     "data": {
      "text/plain": [
       "[stdout:3] /home/yl-02/下载/experiments-main/experiment/param_est/data/\n",
       "gradient solver completed\n"
      ]
     },
     "metadata": {},
     "output_type": "display_data"
    },
    {
     "data": {
      "text/plain": [
       "[stdout:4] /home/yl-02/下载/experiments-main/experiment/param_est/data/\n",
       "gradient solver completed\n"
      ]
     },
     "metadata": {},
     "output_type": "display_data"
    },
    {
     "data": {
      "application/vnd.jupyter.widget-view+json": {
       "model_id": "3d70e321d0634d929adb700228eae837",
       "version_major": 2,
       "version_minor": 0
      },
      "text/plain": [
       "%px:   0%|          | 0/5 [00:00<?, ?tasks/s]"
      ]
     },
     "metadata": {},
     "output_type": "display_data"
    }
   ],
   "source": [
    "%%px\n",
    "import os\n",
    "import sys\n",
    "\n",
    "sys.path.append('/home/yl-02/下载/experiments-main')\n",
    "import numpy as np\n",
    "from core.online_problem import OnlineProblem\n",
    "from lib.function import param_est\n",
    "from solver.stochastic_GTA import *\n",
    "\n",
    "sys.path.append('/home/yl-02/下载/experiments-main/experiment/pca_Stf/waveform')\n",
    "import config\n",
    "\n",
    "\n",
    "n=config.n\n",
    "T=config.T\n",
    "block=config.block\n",
    "foldname = config.foldname\n",
    "St =config.mfd\n",
    "X_0 = config.X_0\n",
    "y_0 = config.y_0\n",
    "\n",
    "#graph\n",
    "node = bf.size()    #number of nodes\n",
    "G = topology_util.StarGraph(node)\n",
    "bf.set_topology(G)\n",
    "\n",
    "ol_problem = OnlineProblem(     mfd = St,\n",
    "                                data = data,\n",
    "                                time = T,\n",
    "                                alpha = config.alpha,\n",
    "                                beta = config.beta,\n",
    "                                eta = noise,\n",
    "                                loss = param_est.grad,\n",
    "                                grad = param_est.pgrad,\n",
    "                                ) \n",
    "\n",
    "solver = StochasticGTA()\n",
    "solver.optimize(ol_problem,X_0, y_0, X_opt)\n",
    "\n",
    "print('gradient solver completed')"
   ]
  },
  {
   "cell_type": "code",
   "execution_count": 7,
   "id": "f2a4d260-e012-4234-b78a-d75a9ba4f67e",
   "metadata": {},
   "outputs": [],
   "source": [
    "sys.path.append('/home/yl-02/下载/experiments-main')\n",
    "from solver.stochastic_GTA import *\n",
    "\n",
    "solver = StochasticGTA()\n",
    "# value_SGTA = dview.pull(\"solver.op_histories\", block=True, targets=0)\n",
    "# grad_SGTA = dview.pull(\"solver.grad_norm_his\", block=True, targets=0)\n",
    "oracle_SGTA = dview.pull(\"solver.oracle\", block=True, targets=0)\n",
    "hat_SGTA = dview.pull(\"solver.X_hat\", block=True, targets=0)\n",
    "grad_SGTA = list()\n",
    "value_SGTA = list()\n",
    "for i in range(len(hat_SGTA)):\n",
    "    grad = param_est.grad(hat_SGTA[i], num_nodes)\n",
    "    g_norm = np.linalg.norm(grad)\n",
    "    loss = param_est.func(hat_SGTA[i], num_nodes)\n",
    "    grad_SGTA.append(g_norm)\n",
    "    value_SGTA.append(loss)\n",
    "    \n",
    "\n",
    "np.save( foldname + 'value_SGTA',value_SGTA)\n",
    "np.save( foldname + 'grad_SGTA',grad_SGTA)\n",
    "np.save( foldname+ 'oracle_SGTA',oracle_SGTA)\n",
    "np.save( foldname + 'hat_SGTA',hat_SGTA)"
   ]
  },
  {
   "cell_type": "code",
   "execution_count": 8,
   "id": "682c2826-780f-455f-9fb6-f43a1e832b91",
   "metadata": {},
   "outputs": [
    {
     "data": {
      "text/plain": [
       "[stdout:2] gradient solver completed\n"
      ]
     },
     "metadata": {},
     "output_type": "display_data"
    },
    {
     "data": {
      "text/plain": [
       "[stdout:4] gradient solver completed\n"
      ]
     },
     "metadata": {},
     "output_type": "display_data"
    },
    {
     "data": {
      "text/plain": [
       "[stdout:3] gradient solver completed\n"
      ]
     },
     "metadata": {},
     "output_type": "display_data"
    },
    {
     "data": {
      "text/plain": [
       "[stdout:1] gradient solver completed\n"
      ]
     },
     "metadata": {},
     "output_type": "display_data"
    },
    {
     "data": {
      "text/plain": [
       "[stdout:0] gradient solver completed\n"
      ]
     },
     "metadata": {},
     "output_type": "display_data"
    }
   ],
   "source": [
    "%%px\n",
    "from solver.DR_SGD import *\n",
    "\n",
    "n=config.n\n",
    "T=config.T\n",
    "block=config.block\n",
    "foldname = config.foldname\n",
    "St =config.mfd\n",
    "X_0 = config.X_0\n",
    "\n",
    "#graph\n",
    "node = bf.size()    #number of nodes\n",
    "G = topology_util.StarGraph(node)\n",
    "bf.set_topology(G)\n",
    "\n",
    "ol_problem = OnlineProblem(     mfd = St,\n",
    "                                data = data,\n",
    "                                time = T,\n",
    "                                alpha = config.alpha,\n",
    "                                beta = config.beta,\n",
    "                                eta = noise,\n",
    "                                loss = param_est.grad,\n",
    "                                grad = param_est.pgrad,\n",
    "                                ) \n",
    "\n",
    "solver =DR_SGD()\n",
    "solver.optimize(ol_problem,X_0, X_opt)\n",
    "\n",
    "print('gradient solver completed')"
   ]
  },
  {
   "cell_type": "code",
   "execution_count": 9,
   "id": "86341714-16fb-461a-8fd6-b39ad79efba3",
   "metadata": {},
   "outputs": [],
   "source": [
    "from solver.DR_SGD import *\n",
    "\n",
    "solver = DR_SGD()\n",
    "# value_SGD= dview.pull(\"solver.op_histories\", block=True, targets=0)\n",
    "# grad_SGD = dview.pull(\"solver.grad_norm_his\", block=True, targets=0)\n",
    "oracle_SGD = dview.pull(\"solver.oracle\", block=True, targets=0)\n",
    "hat_SGD = dview.pull(\"solver.X_hat\", block=True, targets=0)\n",
    "grad_SGD = list()\n",
    "value_SGD = list()\n",
    "for i in range(len(hat_SGTA)):\n",
    "    grad = param_est.grad(hat_SGD[i], num_nodes)\n",
    "    g_norm = np.linalg.norm(grad)\n",
    "    loss = param_est.func(hat_SGD[i], num_nodes)\n",
    "    grad_SGD.append(g_norm)\n",
    "    value_SGD.append(loss)\n",
    "\n",
    "np.save( foldname + 'value_SGD',value_SGD)\n",
    "np.save( foldname + 'grad_SGD',grad_SGD)\n",
    "np.save( foldname+ 'oracle_SGD',oracle_SGD)\n",
    "np.save( foldname + 'hat_SGD',hat_SGD)"
   ]
  },
  {
   "cell_type": "code",
   "execution_count": 10,
   "id": "eeafa8a9-ed86-4b62-8344-8ccb935585be",
   "metadata": {},
   "outputs": [
    {
     "data": {
      "application/vnd.jupyter.widget-view+json": {
       "model_id": "821f8537135548b8afafb1ee509c0c85",
       "version_major": 2,
       "version_minor": 0
      },
      "text/plain": [
       "%px:   0%|          | 0/5 [00:00<?, ?tasks/s]"
      ]
     },
     "metadata": {},
     "output_type": "display_data"
    },
    {
     "data": {
      "text/plain": [
       "[stdout:3] gradient solver completed\n"
      ]
     },
     "metadata": {},
     "output_type": "display_data"
    },
    {
     "data": {
      "text/plain": [
       "[stdout:1] gradient solver completed\n"
      ]
     },
     "metadata": {},
     "output_type": "display_data"
    },
    {
     "data": {
      "text/plain": [
       "[stdout:4] gradient solver completed\n"
      ]
     },
     "metadata": {},
     "output_type": "display_data"
    },
    {
     "data": {
      "text/plain": [
       "[stdout:2] gradient solver completed\n"
      ]
     },
     "metadata": {},
     "output_type": "display_data"
    },
    {
     "data": {
      "text/plain": [
       "[stdout:0] gradient solver completed\n"
      ]
     },
     "metadata": {},
     "output_type": "display_data"
    }
   ],
   "source": [
    "%%px\n",
    "from solver.cons_sample import *\n",
    "\n",
    "n=config.n\n",
    "T=config.T\n",
    "block=config.block\n",
    "foldname = config.foldname\n",
    "St =config.mfd\n",
    "X_0 = config.X_0\n",
    "y_0 = config.y_0\n",
    "\n",
    "#graph\n",
    "node = bf.size()    #number of nodes\n",
    "G = topology_util.StarGraph(node)\n",
    "bf.set_topology(G)\n",
    "\n",
    "ol_problem = OnlineProblem(     mfd = St,\n",
    "                                data = data,\n",
    "                                time = T,\n",
    "                                alpha = config.alpha,\n",
    "                                beta = config.beta,\n",
    "                                eta = noise,\n",
    "                                loss = param_est.grad,\n",
    "                                grad = param_est.pgrad,\n",
    "                                ) \n",
    "\n",
    "solver = ConsSample()\n",
    "solver.optimize(ol_problem,X_0, y_0, X_opt)\n",
    "\n",
    "print('gradient solver completed')"
   ]
  },
  {
   "cell_type": "code",
   "execution_count": 11,
   "id": "177b11b2-1425-4271-9e20-b46b200784b3",
   "metadata": {},
   "outputs": [],
   "source": [
    "from solver.cons_sample import *\n",
    "\n",
    "solver = ConsSample()\n",
    "# value_cons = dview.pull(\"solver.op_histories\", block=True, targets=0)\n",
    "# grad_cons = dview.pull(\"solver.grad_norm_his\", block=True, targets=0)\n",
    "oracle_cons = dview.pull(\"solver.oracle\", block=True, targets=0)\n",
    "hat_cons = dview.pull(\"solver.X_hat\", block=True, targets=0)\n",
    "grad_cons = list()\n",
    "value_cons = list()\n",
    "for i in range(len(hat_SGTA)):\n",
    "    grad = param_est.grad(hat_cons[i], num_nodes)\n",
    "    g_norm = np.linalg.norm(grad)\n",
    "    loss = param_est.func(hat_cons[i], num_nodes)\n",
    "    grad_cons.append(g_norm)\n",
    "    value_cons.append(loss)\n",
    "\n",
    "np.save( foldname + 'value_cons',value_cons)\n",
    "np.save( foldname + 'grad_cons',grad_cons)\n",
    "np.save( foldname+ 'oracle_cons',oracle_cons)\n",
    "np.save( foldname+ 'hat_cons',oracle_cons)"
   ]
  },
  {
   "cell_type": "code",
   "execution_count": 14,
   "id": "6e48537b-b12d-4fd2-8dbc-fb1a4998a949",
   "metadata": {},
   "outputs": [
    {
     "data": {
      "image/png": "[encoded data removed]",
      "text/plain": [
       "<Figure size 640x480 with 1 Axes>"
      ]
     },
     "metadata": {},
     "output_type": "display_data"
    }
   ],
   "source": [
    "#plot\n",
    "import sys\n",
    "sys.path.append('.')\n",
    "\n",
    "from lib.operation.calculate_gap import cal_gap\n",
    "from lib.operation.figureplot import *\n",
    "import matplotlib.pyplot as plt\n",
    "import numpy as np\n",
    "import config\n",
    "\n",
    "\n",
    "foldname = config.foldname\n",
    "res= load_data(foldname)\n",
    "grid = list(np.arange(config.T))\n",
    "# opt = param_est.func(X_opt, num_nodes)\n",
    "# cal_gap(res, opt)\n",
    "plot_grad(res,grid)\n",
    "plt.show()"
   ]
  },
  {
   "cell_type": "code",
   "execution_count": null,
   "id": "d852ac59-d4ce-4148-8895-f1703a2ecb40",
   "metadata": {},
   "outputs": [],
   "source": []
  }
 ],
 "metadata": {
  "kernelspec": {
   "display_name": "Python 3 (ipykernel)",
   "language": "python",
   "name": "python3"
  },
  "language_info": {
   "codemirror_mode": {
    "name": "ipython",
    "version": 3
   },
   "file_extension": ".py",
   "mimetype": "text/x-python",
   "name": "python",
   "nbconvert_exporter": "python",
   "pygments_lexer": "ipython3",
   "version": "3.8.17"
  }
 },
 "nbformat": 4,
 "nbformat_minor": 5
}

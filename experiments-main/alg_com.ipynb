{
 "cells": [
  {
   "cell_type": "code",
   "execution_count": 1,
   "id": "e85bb06f-5818-4943-a9f6-daaed1904ad9",
   "metadata": {},
   "outputs": [
    {
     "data": {
      "text/plain": [
       "[0, 1, 2, 3]"
      ]
     },
     "execution_count": 1,
     "metadata": {},
     "output_type": "execute_result"
    }
   ],
   "source": [
    "import ipyparallel as ipp\n",
    "\n",
    "rc = ipp.Client(profile=\"bluefog\")\n",
    "dview = rc[:]  # A DirectView of all engines\n",
    "dview.block = True\n",
    "rc.ids"
   ]
  },
  {
   "cell_type": "code",
   "execution_count": 2,
   "id": "b400f119-57b6-4c6b-9da4-d5d6fa4a33ce",
   "metadata": {},
   "outputs": [
    {
     "data": {
      "text/plain": [
       "[stdout:3] Hello, I am 0 among 4 processes\n"
      ]
     },
     "metadata": {},
     "output_type": "display_data"
    },
    {
     "data": {
      "text/plain": [
       "[stdout:1] Hello, I am 2 among 4 processes\n"
      ]
     },
     "metadata": {},
     "output_type": "display_data"
    },
    {
     "data": {
      "text/plain": [
       "[stdout:0] Hello, I am 1 among 4 processes\n"
      ]
     },
     "metadata": {},
     "output_type": "display_data"
    },
    {
     "data": {
      "text/plain": [
       "[stdout:2] Hello, I am 3 among 4 processes\n"
      ]
     },
     "metadata": {},
     "output_type": "display_data"
    },
    {
     "data": {
      "text/plain": [
       "[stderr:1] Invalid MIT-MAGIC-COOKIE-1 key"
      ]
     },
     "metadata": {},
     "output_type": "display_data"
    },
    {
     "data": {
      "text/plain": [
       "[stderr:0] Invalid MIT-MAGIC-COOKIE-1 key"
      ]
     },
     "metadata": {},
     "output_type": "display_data"
    },
    {
     "data": {
      "text/plain": [
       "[stderr:3] Invalid MIT-MAGIC-COOKIE-1 key"
      ]
     },
     "metadata": {},
     "output_type": "display_data"
    },
    {
     "data": {
      "text/plain": [
       "[stderr:2] Invalid MIT-MAGIC-COOKIE-1 key"
      ]
     },
     "metadata": {},
     "output_type": "display_data"
    }
   ],
   "source": [
    "%%px\n",
    "import bluefog.torch as bf\n",
    "\n",
    "bf.init()\n",
    "message = f\"Hello, I am {bf.rank()} among {bf.size()} processes\"\n",
    "print(message)"
   ]
  },
  {
   "cell_type": "code",
   "execution_count": 3,
   "id": "ca6ad0c1-6691-4ce4-90ba-c6cfb1cb0797",
   "metadata": {},
   "outputs": [],
   "source": [
    "%%px\n",
    "\n",
    "import numpy as np\n",
    "import scipy.linalg as la\n",
    "\"\"\" Manifold package, Stiefel manifold and Euclidean space \"\"\"\n",
    "__license__ = 'MIT'\n",
    "__author__ = 'Shixiang Chen'\n",
    "__email__ = 'chenshxiang@gmail.com'\n",
    "\n",
    "\n",
    "class StiefelManifold:\n",
    "    # def __int__(self):\n",
    "    @staticmethod     # 函数装饰器，定义了这个可以在不创立类的实例的情况下调用函数内部的方法\n",
    "    def proj_manifold(x):   # orthogonal projection onto the manifold\n",
    "        u, s, vh = la.svd(x, full_matrices=False)\n",
    "        return np.matmul(u, vh)  #返回矩阵乘积\n",
    "\n",
    "\n",
    "    @staticmethod\n",
    "    def proj_tangent(x, d):\n",
    "        xd = np.matmul(x.T,  d)\n",
    "        pd = d - 0.5 * np.matmul(x, xd + xd.T)   #这是将欧氏空间的梯度方向投影到流形的切空间中\n",
    "        return pd\n",
    "\n",
    "    # 基于QR分解的收缩映射\n",
    "    @staticmethod\n",
    "    def qrretraction(x, d):\n",
    "        Q,R=la.qr(x + d,mode='economic')\n",
    "        return Q\n",
    "    \n",
    "    @staticmethod\n",
    "    def retraction(x, d):    \n",
    "        u, s, vh = la.svd(x + d, full_matrices=False)    #这应该就是ret函数\n",
    "        return np.matmul(u, vh)\n",
    "\n",
    "    # 基于polar 的收缩映射\n",
    "    @staticmethod\n",
    "    def repolar(x,d):\n",
    "        a=x + d\n",
    "        b=np.matmul(d.T,d)+np.identity(min(d.shape))\n",
    "        b=1\n",
    "        return np.matmul(a,b)\n",
    "\n",
    "    @staticmethod  \n",
    "    def generate_stiefel_matrix(m, n):\n",
    "        A = np.random.randn(m, n)\n",
    "        Q, R = np.linalg.qr(A)\n",
    "        return Q[:, :n]"
   ]
  },
  {
   "cell_type": "code",
   "execution_count": 5,
   "id": "9762ab66-ab58-4c4d-ba74-5e744b44b760",
   "metadata": {},
   "outputs": [
    {
     "name": "stdout",
     "output_type": "stream",
     "text": [
      "['/home/yl-02/下载/experiments-main', '/home/yl-02/anaconda3/envs/bluefog_env/lib/python38.zip', '/home/yl-02/anaconda3/envs/bluefog_env/lib/python3.8', '/home/yl-02/anaconda3/envs/bluefog_env/lib/python3.8/lib-dynload', '', '/home/yl-02/.local/lib/python3.8/site-packages', '/home/yl-02/anaconda3/envs/bluefog_env/lib/python3.8/site-packages', '..']\n"
     ]
    }
   ],
   "source": [
    "import sys \n",
    "print(sys.path)"
   ]
  },
  {
   "cell_type": "code",
   "execution_count": 4,
   "id": "12c521c2-0d91-4597-b1e8-859c2f370d1b",
   "metadata": {},
   "outputs": [
    {
     "ename": "ModuleNotFoundError",
     "evalue": "No module named 'data_generate'",
     "output_type": "error",
     "traceback": [
      "\u001b[0;31m---------------------------------------------------------------------------\u001b[0m",
      "\u001b[0;31mModuleNotFoundError\u001b[0m                       Traceback (most recent call last)",
      "Cell \u001b[0;32mIn[4], line 5\u001b[0m\n\u001b[1;32m      3\u001b[0m \u001b[38;5;28;01mimport\u001b[39;00m \u001b[38;5;21;01msys\u001b[39;00m \n\u001b[1;32m      4\u001b[0m sys\u001b[38;5;241m.\u001b[39mpath\u001b[38;5;241m.\u001b[39mappend(\u001b[38;5;124m\"\u001b[39m\u001b[38;5;124m..\u001b[39m\u001b[38;5;124m\"\u001b[39m) \n\u001b[0;32m----> 5\u001b[0m \u001b[38;5;28;01mfrom\u001b[39;00m \u001b[38;5;21;01mdata_generate\u001b[39;00m \u001b[38;5;28;01mimport\u001b[39;00m \u001b[38;5;241m*\u001b[39m\n\u001b[1;32m      6\u001b[0m \u001b[38;5;28;01mfrom\u001b[39;00m \u001b[38;5;21;01mManifoldTool\u001b[39;00m \u001b[38;5;28;01mimport\u001b[39;00m StiefelManifold\n\u001b[1;32m      8\u001b[0m M \u001b[38;5;241m=\u001b[39m StiefelManifold()\n",
      "\u001b[0;31mModuleNotFoundError\u001b[0m: No module named 'data_generate'"
     ]
    }
   ],
   "source": [
    "#create data\n",
    "import torch\n",
    "import sys \n",
    "sys.path.append(\"..\") \n",
    "from data_generate import *\n",
    "from ManifoldTool import StiefelManifold\n",
    "\n",
    "M = StiefelManifold()\n",
    "\n",
    "features = 8   #n\n",
    "componments = 3   #r\n",
    "samples = 10000\n",
    "eigengap = 0.8\n",
    "\n",
    "#数据分配\n",
    "data = synthetic_data(features, samples, eigengap)\n",
    "num_nodes = len(rc.ids)\n",
    "num_split = int(samples // num_nodes)\n",
    "for i in range(num_nodes):\n",
    "    data_worker = data.T[i * num_split : (i + 1) * num_split]\n",
    "    data_worker = data_worker.T\n",
    "    dview.push({\"data_worker\": data_worker}, targets=i)\n",
    "    \n",
    "\n",
    "#x初始化\n",
    "x_0 = torch.randn(features, componments, dtype=torch.float)\n",
    "print(x_0)\n",
    "x_init = M.retraction(x_0, 0)\n",
    "\n",
    "\n",
    "#计算x*为ite_opt\n",
    "_, opt = PCA(data, componments)\n",
    "#print(\"opt = {}\".format(opt))\n",
    "\n",
    "x_opt, loss_opt = ite_PCA(data, x_init)\n",
    "#print(\"x_opt = {}\".format(x_opt))\n",
    "\n",
    "dview.push({\"x_init\": x_init})\n",
    "dview.push({\"x_opt\": x_opt})"
   ]
  },
  {
   "cell_type": "code",
   "execution_count": 5,
   "id": "fe85050c-acc2-49ef-9f06-efe955bebd2b",
   "metadata": {},
   "outputs": [
    {
     "name": "stderr",
     "output_type": "stream",
     "text": [
      "[0:execute]\n",
      "\u001b[0;31m---------------------------------------------------------------------------\u001b[0m\n",
      "\u001b[0;31mNameError\u001b[0m                                 Traceback (most recent call last)\n",
      "Cell \u001b[0;32mIn[8], line 1\u001b[0m\n",
      "\u001b[0;32m----> 1\u001b[0m \u001b[38;5;28mprint\u001b[39m(\u001b[38;5;124m\"\u001b[39m\u001b[38;5;124mI received value: \u001b[39m\u001b[38;5;124m\"\u001b[39m, \u001b[43mx_opt\u001b[49m, x_init)\n",
      "\u001b[1;32m      2\u001b[0m \u001b[38;5;28mprint\u001b[39m(data_worker\u001b[38;5;241m.\u001b[39mshape)\n",
      "\n",
      "\u001b[0;31mNameError\u001b[0m: name 'x_opt' is not defined\n",
      "[1:execute]\n",
      "\u001b[0;31m---------------------------------------------------------------------------\u001b[0m\n",
      "\u001b[0;31mNameError\u001b[0m                                 Traceback (most recent call last)\n",
      "Cell \u001b[0;32mIn[8], line 1\u001b[0m\n",
      "\u001b[0;32m----> 1\u001b[0m \u001b[38;5;28mprint\u001b[39m(\u001b[38;5;124m\"\u001b[39m\u001b[38;5;124mI received value: \u001b[39m\u001b[38;5;124m\"\u001b[39m, \u001b[43mx_opt\u001b[49m, x_init)\n",
      "\u001b[1;32m      2\u001b[0m \u001b[38;5;28mprint\u001b[39m(data_worker\u001b[38;5;241m.\u001b[39mshape)\n",
      "\n",
      "\u001b[0;31mNameError\u001b[0m: name 'x_opt' is not defined\n",
      "[3:execute]\n",
      "\u001b[0;31m---------------------------------------------------------------------------\u001b[0m\n",
      "\u001b[0;31mNameError\u001b[0m                                 Traceback (most recent call last)\n",
      "Cell \u001b[0;32mIn[8], line 1\u001b[0m\n",
      "\u001b[0;32m----> 1\u001b[0m \u001b[38;5;28mprint\u001b[39m(\u001b[38;5;124m\"\u001b[39m\u001b[38;5;124mI received value: \u001b[39m\u001b[38;5;124m\"\u001b[39m, \u001b[43mx_opt\u001b[49m, x_init)\n",
      "\u001b[1;32m      2\u001b[0m \u001b[38;5;28mprint\u001b[39m(data_worker\u001b[38;5;241m.\u001b[39mshape)\n",
      "\n",
      "\u001b[0;31mNameError\u001b[0m: name 'x_opt' is not defined\n",
      "[2:execute]\n",
      "\u001b[0;31m---------------------------------------------------------------------------\u001b[0m\n",
      "\u001b[0;31mNameError\u001b[0m                                 Traceback (most recent call last)\n",
      "Cell \u001b[0;32mIn[8], line 1\u001b[0m\n",
      "\u001b[0;32m----> 1\u001b[0m \u001b[38;5;28mprint\u001b[39m(\u001b[38;5;124m\"\u001b[39m\u001b[38;5;124mI received value: \u001b[39m\u001b[38;5;124m\"\u001b[39m, \u001b[43mx_opt\u001b[49m, x_init)\n",
      "\u001b[1;32m      2\u001b[0m \u001b[38;5;28mprint\u001b[39m(data_worker\u001b[38;5;241m.\u001b[39mshape)\n",
      "\n",
      "\u001b[0;31mNameError\u001b[0m: name 'x_opt' is not defined\n"
     ]
    },
    {
     "ename": "AlreadyDisplayedError",
     "evalue": "4 errors",
     "output_type": "error",
     "traceback": [
      "4 errors"
     ]
    }
   ],
   "source": [
    "%%px\n",
    "\n",
    "print(\"I received value: \", x_opt, x_init)\n",
    "print(data_worker.shape)"
   ]
  },
  {
   "cell_type": "code",
   "execution_count": null,
   "id": "9051f168-a72e-4685-afac-862e36ed1cdd",
   "metadata": {},
   "outputs": [],
   "source": [
    "%%px\n",
    "\n",
    "import os\n",
    "import numpy as np\n",
    "#import bluefog.torch as bf\n",
    "import torch\n",
    "from bluefog.common import topology_util\n",
    "import networkx as nx\n",
    "import matplotlib.pyplot as plt\n",
    "\n",
    "import time\n",
    "from datetime import datetime\n",
    "import pytz\n",
    "import pickle\n",
    "\n",
    "import sys \n",
    "sys.path.append(\"..\") \n",
    "from graph import *\n",
    "from data_generate import *\n",
    "from ManifoldTool import StiefelManifold\n",
    "\n",
    "%matplotlib inline\n",
    "\n",
    "M = StiefelManifold()\n",
    "\n",
    "torch.set_printoptions(precision=8)\n",
    "\n",
    "maxite = 1000\n",
    "alpha = 1 #代表着趋向共识的权重\n",
    "lamda = 0.01 #代表着迭代的步长 \n",
    "componments = 3   #r\n",
    "features = 8   #n\n",
    "samples = 2500\n",
    "eigengap = 0.8\n",
    "\n",
    "\n",
    "taskname = os.path.join('./figure')\n",
    "os.makedirs(taskname, exist_ok=True)\n",
    "#初始化\n",
    "k = bf.rank()    #number of nodes\n",
    "graph_type = 'Star'\n",
    "G = graph_make(graph_type)\n",
    "bf.set_topology(G)\n"
   ]
  },
  {
   "cell_type": "code",
   "execution_count": null,
   "id": "8958c363-3aa8-4268-b457-a46f4905349b",
   "metadata": {},
   "outputs": [],
   "source": [
    "%%px\n",
    "\n",
    "def Stochastic_gta_one_step(x, y, prev_g, x_opt, data, beta, ite):\n",
    "    \n",
    "    v = M.proj_tangent(x, y)\n",
    "\n",
    "    if not torch.is_tensor(x):\n",
    "        x = torch.tensor(x)\n",
    "    x= M.retraction(x, lamda*(M.proj_tangent(x, alpha * bf.neighbor_allreduce(x)) + beta * v))\n",
    "\n",
    "    if not torch.is_tensor(x):\n",
    "        x = torch.tensor(x)\n",
    "\n",
    "    batchsize = min([samples-1,int(ite + 1)])\n",
    "    idx = generate_random_array(batchsize, samples)\n",
    "    w = data[:, idx]\n",
    "    w = torch.from_numpy(w)  # 将 numpy 数组转换成 Tensor\n",
    "    g = gradient(x, w)\n",
    "\n",
    "    if not torch.is_tensor(y):\n",
    "        y = torch.tensor(y)\n",
    "    trac = g - prev_g\n",
    "    q = np.add(y, trac)\n",
    "    y = bf.neighbor_allreduce(q)\n",
    "    \n",
    "    x_mean = bf.allreduce(x)  #算术平均\n",
    "    x_mean = M.proj_manifold(x_mean)  #IAM\n",
    "    if not torch.is_tensor(x_mean):\n",
    "        x_mean = torch.tensor(x_mean)\n",
    "  \n",
    "    rel_error = sub_dist(x_mean, x_opt)\n",
    "    \n",
    "    return x, y, g, rel_error\n",
    "\n",
    "def SGD_one_step(x, x_opt, data, beta_0, ite):\n",
    "    beta = beta_0 / np.sqrt(ite+1)\n",
    "    batchsize = 1\n",
    "    \n",
    "    idx = generate_random_array(batchsize, samples)\n",
    "    w = data[:, idx]\n",
    "    w = torch.from_numpy(w)  # 将 numpy 数组转换成 Tensor\n",
    "    g = gradient(x, w)\n",
    "\n",
    "    \n",
    "    if not torch.is_tensor(x):\n",
    "        x = torch.tensor(x)\n",
    "    x = M.retraction(x, M.proj_tangent(x, alpha * bf.neighbor_allreduce(x)) + beta * g)\n",
    "\n",
    "    if not torch.is_tensor(x):\n",
    "        x = torch.tensor(x)\n",
    "    \n",
    "    x_mean = bf.allreduce(x)  #算术平均\n",
    "    x_mean = M.proj_manifold(x_mean)  #IAM\n",
    "    if not torch.is_tensor(x_mean):\n",
    "        x_mean = torch.tensor(x_mean)\n",
    "  \n",
    "    error = sub_dist(x_mean, x_opt)\n",
    "    \n",
    "    return x, error\n",
    "    \n",
    "#初始化\n",
    "x_1 = x_init\n",
    "y = x_init\n",
    "prev_g = x_init\n",
    "rel_error_1= torch.zeros((maxite, 1))\n",
    "\n",
    "x_2 = x_init\n",
    "rel_error_2= torch.zeros((maxite, 1))\n",
    "\n",
    "for i in range(maxite):\n",
    "    # seed = 1212\n",
    "    # torch.manual_seed(seed)\n",
    "\n",
    "    x_1, y, prev_g, rel_error_1[i] = Stochastic_gta_one_step(x_1, y,prev_g, x_opt, data_worker, beta = 0.08, ite = i)\n",
    "    x_2, rel_error_2[i] = SGD_one_step(x_2, x_opt, data_worker, beta_0 = 0.1, ite = i)\n",
    "\n",
    "    if bf.rank() == 0:     #第1个client的结果\n",
    "        if(i % 500 == 0):\n",
    "            print(i, rel_error_1[i])\n",
    "\n",
    "# bf.shutdown()\n"
   ]
  },
  {
   "cell_type": "code",
   "execution_count": null,
   "id": "d40814c9-745c-4cac-93bf-796fbe9cb25d",
   "metadata": {},
   "outputs": [],
   "source": [
    "error_1_all = dview.pull(\"rel_error_1\", block=True, targets=0)\n",
    "error_2_all = dview.pull(\"rel_error_2\", block=True, targets=0)"
   ]
  },
  {
   "cell_type": "code",
   "execution_count": null,
   "id": "2d269d0a-943e-4e51-a853-b077b706a1dd",
   "metadata": {},
   "outputs": [],
   "source": [
    "import matplotlib.pyplot as plt\n",
    "\n",
    "%matplotlib inline\n",
    "\n",
    "plt.semilogy(error_1_all)\n",
    "plt.semilogy(error_2_all)\n",
    "\n",
    "plt.legend([\"Alg:1\", \"DR-SGD\"], fontsize=16)\n",
    "\n",
    "plt.xlabel(\"Iteration\", fontsize=16)\n",
    "plt.ylabel(\"Optimal error\", fontsize=16)\n",
    "\n",
    "plt.savefig( 'optimal——err.png')"
   ]
  },
  {
   "cell_type": "code",
   "execution_count": null,
   "id": "8504fd5a-1d4b-457c-b208-6c577ed63150",
   "metadata": {},
   "outputs": [],
   "source": []
  },
  {
   "cell_type": "code",
   "execution_count": null,
   "id": "b537bdf2-b055-4ba9-a923-4d580fa4c98a",
   "metadata": {},
   "outputs": [],
   "source": []
  }
 ],
 "metadata": {
  "kernelspec": {
   "display_name": "Python 3 (ipykernel)",
   "language": "python",
   "name": "python3"
  },
  "language_info": {
   "codemirror_mode": {
    "name": "ipython",
    "version": 3
   },
   "file_extension": ".py",
   "mimetype": "text/x-python",
   "name": "python",
   "nbconvert_exporter": "python",
   "pygments_lexer": "ipython3",
   "version": "3.8.17"
  }
 },
 "nbformat": 4,
 "nbformat_minor": 5
}
